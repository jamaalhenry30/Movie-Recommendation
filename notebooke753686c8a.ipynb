{
 "cells": [
  {
   "cell_type": "code",
   "execution_count": 1,
   "id": "33971c5d",
   "metadata": {
    "_cell_guid": "b1076dfc-b9ad-4769-8c92-a6c4dae69d19",
    "_uuid": "8f2839f25d086af736a60e9eeb907d3b93b6e0e5",
    "execution": {
     "iopub.execute_input": "2023-03-13T01:25:17.724006Z",
     "iopub.status.busy": "2023-03-13T01:25:17.723223Z",
     "iopub.status.idle": "2023-03-13T01:25:17.741694Z",
     "shell.execute_reply": "2023-03-13T01:25:17.740272Z"
    },
    "papermill": {
     "duration": 0.028236,
     "end_time": "2023-03-13T01:25:17.745003",
     "exception": false,
     "start_time": "2023-03-13T01:25:17.716767",
     "status": "completed"
    },
    "tags": []
   },
   "outputs": [
    {
     "name": "stdout",
     "output_type": "stream",
     "text": [
      "/kaggle/input/tmdb-movie-metadata/tmdb_5000_movies.csv\n",
      "/kaggle/input/tmdb-movie-metadata/tmdb_5000_credits.csv\n"
     ]
    }
   ],
   "source": [
    "# This Python 3 environment comes with many helpful analytics libraries installed\n",
    "# It is defined by the kaggle/python Docker image: https://github.com/kaggle/docker-python\n",
    "# For example, here's several helpful packages to load\n",
    "\n",
    "import numpy as np # linear algebra\n",
    "import pandas as pd # data processing, CSV file I/O (e.g. pd.read_csv)\n",
    "\n",
    "# Input data files are available in the read-only \"../input/\" directory\n",
    "# For example, running this (by clicking run or pressing Shift+Enter) will list all files under the input directory\n",
    "\n",
    "import os\n",
    "for dirname, _, filenames in os.walk('/kaggle/input'):\n",
    "    for filename in filenames:\n",
    "        print(os.path.join(dirname, filename))\n",
    "\n",
    "# You can write up to 20GB to the current directory (/kaggle/working/) that gets preserved as output when you create a version using \"Save & Run All\" \n",
    "# You can also write temporary files to /kaggle/temp/, but they won't be saved outside of the current session"
   ]
  },
  {
   "cell_type": "code",
   "execution_count": 2,
   "id": "2c9dd845",
   "metadata": {
    "execution": {
     "iopub.execute_input": "2023-03-13T01:25:17.754980Z",
     "iopub.status.busy": "2023-03-13T01:25:17.754168Z",
     "iopub.status.idle": "2023-03-13T01:25:18.984861Z",
     "shell.execute_reply": "2023-03-13T01:25:18.983316Z"
    },
    "papermill": {
     "duration": 1.238965,
     "end_time": "2023-03-13T01:25:18.987920",
     "exception": false,
     "start_time": "2023-03-13T01:25:17.748955",
     "status": "completed"
    },
    "tags": []
   },
   "outputs": [],
   "source": [
    "import pandas as pd\n",
    "import numpy as np\n",
    "from sklearn.feature_extraction.text import TfidfVectorizer\n",
    "from sklearn.metrics.pairwise import linear_kernel"
   ]
  },
  {
   "cell_type": "code",
   "execution_count": 3,
   "id": "60f87a95",
   "metadata": {
    "execution": {
     "iopub.execute_input": "2023-03-13T01:25:18.997967Z",
     "iopub.status.busy": "2023-03-13T01:25:18.997503Z",
     "iopub.status.idle": "2023-03-13T01:25:20.188484Z",
     "shell.execute_reply": "2023-03-13T01:25:20.187181Z"
    },
    "papermill": {
     "duration": 1.200577,
     "end_time": "2023-03-13T01:25:20.192347",
     "exception": false,
     "start_time": "2023-03-13T01:25:18.991770",
     "status": "completed"
    },
    "tags": []
   },
   "outputs": [],
   "source": [
    "credits = pd.read_csv(\"/kaggle/input/tmdb-movie-metadata/tmdb_5000_credits.csv\")\n",
    "movies = pd.read_csv(\"/kaggle/input/tmdb-movie-metadata/tmdb_5000_movies.csv\")"
   ]
  },
  {
   "cell_type": "code",
   "execution_count": 4,
   "id": "dfc1ac15",
   "metadata": {
    "execution": {
     "iopub.execute_input": "2023-03-13T01:25:20.201961Z",
     "iopub.status.busy": "2023-03-13T01:25:20.201548Z",
     "iopub.status.idle": "2023-03-13T01:25:20.218755Z",
     "shell.execute_reply": "2023-03-13T01:25:20.217526Z"
    },
    "papermill": {
     "duration": 0.026764,
     "end_time": "2023-03-13T01:25:20.223104",
     "exception": false,
     "start_time": "2023-03-13T01:25:20.196340",
     "status": "completed"
    },
    "tags": []
   },
   "outputs": [
    {
     "data": {
      "text/plain": [
       "0       In the 22nd century, a paraplegic Marine is di...\n",
       "1       Captain Barbossa, long believed to be dead, ha...\n",
       "2       A cryptic message from Bond’s past sends him o...\n",
       "3       Following the death of District Attorney Harve...\n",
       "4       John Carter is a war-weary, former military ca...\n",
       "                              ...                        \n",
       "4798    El Mariachi just wants to play his guitar and ...\n",
       "4799    A newlywed couple's honeymoon is upended by th...\n",
       "4800    \"Signed, Sealed, Delivered\" introduces a dedic...\n",
       "4801    When ambitious New York attorney Sam is sent t...\n",
       "4802    Ever since the second grade when he first saw ...\n",
       "Name: overview, Length: 4803, dtype: object"
      ]
     },
     "execution_count": 4,
     "metadata": {},
     "output_type": "execute_result"
    }
   ],
   "source": [
    "movies['overview']"
   ]
  },
  {
   "cell_type": "code",
   "execution_count": 5,
   "id": "04d12509",
   "metadata": {
    "execution": {
     "iopub.execute_input": "2023-03-13T01:25:20.233969Z",
     "iopub.status.busy": "2023-03-13T01:25:20.232385Z",
     "iopub.status.idle": "2023-03-13T01:25:20.515821Z",
     "shell.execute_reply": "2023-03-13T01:25:20.514528Z"
    },
    "papermill": {
     "duration": 0.291507,
     "end_time": "2023-03-13T01:25:20.518562",
     "exception": false,
     "start_time": "2023-03-13T01:25:20.227055",
     "status": "completed"
    },
    "tags": []
   },
   "outputs": [],
   "source": [
    "tfidf = TfidfVectorizer(stop_words=\"english\")\n",
    "movies['overview'] = movies['overview'].fillna(\"\")\n",
    "tfidfmatrix = tfidf.fit_transform(movies['overview'])"
   ]
  },
  {
   "cell_type": "code",
   "execution_count": 6,
   "id": "1b75a272",
   "metadata": {
    "execution": {
     "iopub.execute_input": "2023-03-13T01:25:20.528507Z",
     "iopub.status.busy": "2023-03-13T01:25:20.528093Z",
     "iopub.status.idle": "2023-03-13T01:25:20.995454Z",
     "shell.execute_reply": "2023-03-13T01:25:20.994242Z"
    },
    "papermill": {
     "duration": 0.475933,
     "end_time": "2023-03-13T01:25:20.998435",
     "exception": false,
     "start_time": "2023-03-13T01:25:20.522502",
     "status": "completed"
    },
    "tags": []
   },
   "outputs": [],
   "source": [
    "cosine_sim = linear_kernel(tfidfmatrix,tfidfmatrix)"
   ]
  },
  {
   "cell_type": "code",
   "execution_count": 7,
   "id": "709eac00",
   "metadata": {
    "execution": {
     "iopub.execute_input": "2023-03-13T01:25:21.008155Z",
     "iopub.status.busy": "2023-03-13T01:25:21.007705Z",
     "iopub.status.idle": "2023-03-13T01:25:21.016734Z",
     "shell.execute_reply": "2023-03-13T01:25:21.015339Z"
    },
    "papermill": {
     "duration": 0.017147,
     "end_time": "2023-03-13T01:25:21.019573",
     "exception": false,
     "start_time": "2023-03-13T01:25:21.002426",
     "status": "completed"
    },
    "tags": []
   },
   "outputs": [],
   "source": [
    "indices = pd.Series(movies.index, index= movies['original_title']).drop_duplicates()"
   ]
  },
  {
   "cell_type": "code",
   "execution_count": 8,
   "id": "69c43f7a",
   "metadata": {
    "execution": {
     "iopub.execute_input": "2023-03-13T01:25:21.028999Z",
     "iopub.status.busy": "2023-03-13T01:25:21.028568Z",
     "iopub.status.idle": "2023-03-13T01:25:21.039999Z",
     "shell.execute_reply": "2023-03-13T01:25:21.038796Z"
    },
    "papermill": {
     "duration": 0.019082,
     "end_time": "2023-03-13T01:25:21.042549",
     "exception": false,
     "start_time": "2023-03-13T01:25:21.023467",
     "status": "completed"
    },
    "tags": []
   },
   "outputs": [
    {
     "data": {
      "text/plain": [
       "original_title\n",
       "Avatar                                         0\n",
       "Pirates of the Caribbean: At World's End       1\n",
       "Spectre                                        2\n",
       "The Dark Knight Rises                          3\n",
       "John Carter                                    4\n",
       "                                            ... \n",
       "El Mariachi                                 4798\n",
       "Newlyweds                                   4799\n",
       "Signed, Sealed, Delivered                   4800\n",
       "Shanghai Calling                            4801\n",
       "My Date with Drew                           4802\n",
       "Length: 4803, dtype: int64"
      ]
     },
     "execution_count": 8,
     "metadata": {},
     "output_type": "execute_result"
    }
   ],
   "source": [
    "indices"
   ]
  },
  {
   "cell_type": "code",
   "execution_count": 9,
   "id": "ad64539a",
   "metadata": {
    "execution": {
     "iopub.execute_input": "2023-03-13T01:25:21.052606Z",
     "iopub.status.busy": "2023-03-13T01:25:21.052185Z",
     "iopub.status.idle": "2023-03-13T01:25:21.063734Z",
     "shell.execute_reply": "2023-03-13T01:25:21.061952Z"
    },
    "papermill": {
     "duration": 0.019477,
     "end_time": "2023-03-13T01:25:21.066107",
     "exception": false,
     "start_time": "2023-03-13T01:25:21.046630",
     "status": "completed"
    },
    "tags": []
   },
   "outputs": [
    {
     "data": {
      "text/plain": [
       "3"
      ]
     },
     "execution_count": 9,
     "metadata": {},
     "output_type": "execute_result"
    }
   ],
   "source": [
    "indices['The Dark Knight Rises']"
   ]
  },
  {
   "cell_type": "code",
   "execution_count": 10,
   "id": "a64f6948",
   "metadata": {
    "execution": {
     "iopub.execute_input": "2023-03-13T01:25:21.076308Z",
     "iopub.status.busy": "2023-03-13T01:25:21.075679Z",
     "iopub.status.idle": "2023-03-13T01:25:21.082777Z",
     "shell.execute_reply": "2023-03-13T01:25:21.081697Z"
    },
    "papermill": {
     "duration": 0.015242,
     "end_time": "2023-03-13T01:25:21.085484",
     "exception": false,
     "start_time": "2023-03-13T01:25:21.070242",
     "status": "completed"
    },
    "tags": []
   },
   "outputs": [],
   "source": [
    "def getrecommendation(title,cosine_sim=cosine_sim):\n",
    "    index = indices[title]\n",
    "    similarity_score = enumerate(cosine_sim[index])\n",
    "    similarity_score = sorted(similarity_score, key= lambda x:x[1], reverse = True)\n",
    "    similarity_score = similarity_score[1:11]\n",
    "    similarity_indx = [i[0] for i in similarity_score]\n",
    "    print(movies['original_title'].iloc[similarity_indx])\n",
    "    \n"
   ]
  },
  {
   "cell_type": "code",
   "execution_count": 11,
   "id": "a4adf35c",
   "metadata": {
    "execution": {
     "iopub.execute_input": "2023-03-13T01:25:21.096008Z",
     "iopub.status.busy": "2023-03-13T01:25:21.095253Z",
     "iopub.status.idle": "2023-03-13T01:25:21.108464Z",
     "shell.execute_reply": "2023-03-13T01:25:21.106059Z"
    },
    "papermill": {
     "duration": 0.02182,
     "end_time": "2023-03-13T01:25:21.111498",
     "exception": false,
     "start_time": "2023-03-13T01:25:21.089678",
     "status": "completed"
    },
    "tags": []
   },
   "outputs": [
    {
     "name": "stdout",
     "output_type": "stream",
     "text": [
      "3656                   Area 51\n",
      "1334                   Cop Out\n",
      "696     The General's Daughter\n",
      "4031                  Anatomie\n",
      "3948                  Creature\n",
      "27                  Battleship\n",
      "1655           Chasing Liberty\n",
      "4057    The Valley of Decision\n",
      "4282    Friday the 13th Part 2\n",
      "894           Bulletproof Monk\n",
      "Name: original_title, dtype: object\n"
     ]
    }
   ],
   "source": [
    "getrecommendation('Paul')"
   ]
  }
 ],
 "metadata": {
  "kernelspec": {
   "display_name": "Python 3",
   "language": "python",
   "name": "python3"
  },
  "language_info": {
   "codemirror_mode": {
    "name": "ipython",
    "version": 3
   },
   "file_extension": ".py",
   "mimetype": "text/x-python",
   "name": "python",
   "nbconvert_exporter": "python",
   "pygments_lexer": "ipython3",
   "version": "3.7.12"
  },
  "papermill": {
   "default_parameters": {},
   "duration": 16.148587,
   "end_time": "2023-03-13T01:25:21.938689",
   "environment_variables": {},
   "exception": null,
   "input_path": "__notebook__.ipynb",
   "output_path": "__notebook__.ipynb",
   "parameters": {},
   "start_time": "2023-03-13T01:25:05.790102",
   "version": "2.4.0"
  }
 },
 "nbformat": 4,
 "nbformat_minor": 5
}
